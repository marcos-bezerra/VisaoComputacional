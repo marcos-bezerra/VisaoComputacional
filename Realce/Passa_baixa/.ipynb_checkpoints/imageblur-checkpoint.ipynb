{
 "cells": [
  {
   "cell_type": "code",
   "execution_count": 3,
   "metadata": {},
   "outputs": [],
   "source": [
    "# %load imageblur.py\n",
    "# Adding noise to the image    \n",
    "\n",
    "import cv2\n",
    "import numpy as np\n",
    "from matplotlib import pyplot as plt\n",
    "\n",
    "img = cv2.imread('../images/messi5_gray_saltpeper.jpg',0)\n",
    "im = np.zeros(img.shape, np.uint8) # do not use original image it overwrites the image"
   ]
  },
  {
   "cell_type": "code",
   "execution_count": null,
   "metadata": {},
   "outputs": [],
   "source": [
    "plt.imshow(\"Original\", img)\n",
    "plt.waitKey(0)\n",
    "\n",
    "im = cv2.GaussianBlur(img,(3,3),0)\n",
    "plt.imshow(\"Gaussian 3x3*\", im)\n",
    "plt.waitKey(0)\n",
    "\n",
    "im = cv2.GaussianBlur(img,(5,5),0)\n",
    "plt.imshow(\"Gaussian 5x5\", im)\n",
    "plt.waitKey(0)\n",
    "\n",
    "im = cv2.medianBlur(img, 3)\n",
    "plt.imshow(\"Median 3x3\", im)\n",
    "plt.waitKey(0)\n",
    "\n",
    "im = cv2.medianBlur(img, 5)\n",
    "plt.imshow(\"Median 5x5\", im)\n",
    "plt.waitKey(0)\n",
    "\n",
    "im = cv2.blur(img,(3,3) )\n",
    "plt.imshow(\"Blur 3x3\", im)\n",
    "plt.waitKey(0)\n",
    "\n",
    "im = cv2.blur(img, (5,5) )\n",
    "plt.imshow(\"Blur 5x5\", im)\n",
    "plt.waitKey(0)\n"
   ]
  }
 ],
 "metadata": {
  "kernelspec": {
   "display_name": "Python 3",
   "language": "python",
   "name": "python3"
  },
  "language_info": {
   "codemirror_mode": {
    "name": "ipython",
    "version": 3
   },
   "file_extension": ".py",
   "mimetype": "text/x-python",
   "name": "python",
   "nbconvert_exporter": "python",
   "pygments_lexer": "ipython3",
   "version": "3.7.7"
  }
 },
 "nbformat": 4,
 "nbformat_minor": 4
}
